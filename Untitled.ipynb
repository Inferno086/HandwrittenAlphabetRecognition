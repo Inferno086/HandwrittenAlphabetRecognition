{
 "cells": [
  {
   "cell_type": "code",
   "execution_count": 1,
   "id": "5efa4592",
   "metadata": {},
   "outputs": [],
   "source": [
    "import numpy as np\n",
    "import pandas as pd"
   ]
  },
  {
   "cell_type": "code",
   "execution_count": 2,
   "id": "80498663",
   "metadata": {
    "scrolled": true
   },
   "outputs": [],
   "source": [
    "df = pd.read_csv (r'C:\\Users\\ckshu\\Desktop\\Python\\archive\\A_Z Handwritten Data.csv')"
   ]
  },
  {
   "cell_type": "code",
   "execution_count": 3,
   "id": "4fa96df1",
   "metadata": {},
   "outputs": [
    {
     "data": {
      "text/plain": [
       "(372450, 785)"
      ]
     },
     "execution_count": 3,
     "metadata": {},
     "output_type": "execute_result"
    }
   ],
   "source": [
    "df.shape"
   ]
  },
  {
   "cell_type": "code",
   "execution_count": 4,
   "id": "9703558e",
   "metadata": {},
   "outputs": [
    {
     "data": {
      "text/plain": [
       "pandas.core.frame.DataFrame"
      ]
     },
     "execution_count": 4,
     "metadata": {},
     "output_type": "execute_result"
    }
   ],
   "source": [
    "type(df)"
   ]
  },
  {
   "cell_type": "code",
   "execution_count": 5,
   "id": "857fda3e",
   "metadata": {},
   "outputs": [],
   "source": [
    "data = df.to_numpy()\n",
    "np.random.shuffle(data)"
   ]
  },
  {
   "cell_type": "code",
   "execution_count": 6,
   "id": "de3c8344",
   "metadata": {},
   "outputs": [
    {
     "data": {
      "text/plain": [
       "(372450, 785)"
      ]
     },
     "execution_count": 6,
     "metadata": {},
     "output_type": "execute_result"
    }
   ],
   "source": [
    "data.shape"
   ]
  },
  {
   "cell_type": "code",
   "execution_count": 7,
   "id": "82a0831d",
   "metadata": {},
   "outputs": [
    {
     "data": {
      "text/plain": [
       "numpy.ndarray"
      ]
     },
     "execution_count": 7,
     "metadata": {},
     "output_type": "execute_result"
    }
   ],
   "source": [
    "type(data)"
   ]
  },
  {
   "cell_type": "code",
   "execution_count": 8,
   "id": "32be8da4",
   "metadata": {},
   "outputs": [
    {
     "name": "stdout",
     "output_type": "stream",
     "text": [
      "[[0 0 0 ... 0 0 0]\n",
      " [0 0 0 ... 0 0 0]\n",
      " [0 0 0 ... 0 0 0]\n",
      " ...\n",
      " [0 0 0 ... 0 0 0]\n",
      " [0 0 0 ... 0 0 0]\n",
      " [0 0 0 ... 0 0 0]]\n"
     ]
    },
    {
     "data": {
      "text/plain": [
       "(372450, 784)"
      ]
     },
     "execution_count": 8,
     "metadata": {},
     "output_type": "execute_result"
    }
   ],
   "source": [
    "X = data[:,1:]\n",
    "print(X)\n",
    "X.shape\n"
   ]
  },
  {
   "cell_type": "code",
   "execution_count": 9,
   "id": "0234911f",
   "metadata": {},
   "outputs": [
    {
     "name": "stdout",
     "output_type": "stream",
     "text": [
      "[[14]\n",
      " [25]\n",
      " [ 3]\n",
      " ...\n",
      " [14]\n",
      " [13]\n",
      " [13]]\n"
     ]
    },
    {
     "data": {
      "text/plain": [
       "(372450, 1)"
      ]
     },
     "execution_count": 9,
     "metadata": {},
     "output_type": "execute_result"
    }
   ],
   "source": [
    "y = data[:,0]\n",
    "y = y.reshape(X.shape[0],1)\n",
    "print(y)\n",
    "y.shape"
   ]
  },
  {
   "cell_type": "code",
   "execution_count": 10,
   "id": "c6a1ea96",
   "metadata": {},
   "outputs": [
    {
     "data": {
      "text/plain": [
       "(372450, 785)"
      ]
     },
     "execution_count": 10,
     "metadata": {},
     "output_type": "execute_result"
    }
   ],
   "source": [
    "X_bias = np.ones((X.shape[0],1))\n",
    "X = np.concatenate((X_bias,X),1)\n",
    "X.shape\n",
    "#print(X) #Make sure to restart the entire thing again. "
   ]
  },
  {
   "cell_type": "code",
   "execution_count": 11,
   "id": "658e3bba",
   "metadata": {},
   "outputs": [
    {
     "name": "stdout",
     "output_type": "stream",
     "text": [
      "(300000, 785) (72450, 785)\n",
      "(300000, 1) (72450, 1)\n"
     ]
    }
   ],
   "source": [
    "X_train = X[0:300000,:]\n",
    "y_train = y[0:300000,:]\n",
    "X_test = X[300000:,:]\n",
    "y_test = y[300000:,:]\n",
    "print(X_train.shape,X_test.shape)\n",
    "print(y_train.shape,y_test.shape)"
   ]
  },
  {
   "cell_type": "code",
   "execution_count": 12,
   "id": "0fa65b36",
   "metadata": {},
   "outputs": [
    {
     "data": {
      "text/plain": [
       "'\\nWe have a data set with 300,000 stimuli or training examples.\\nOur target is to make a neural network which classifies a stimuli as a letter between A-Z.\\nThe input layer has 784 features without bias unit. In total 785 features.\\n\\nOur network will have 4 layers. 1 input, 2 hidden and 1 output layer.\\nInput = 784 units\\nHidden layer 1 = 40 activation units\\nHidden layer 2 = 40 activation units\\nOutput layer = 26 units\\n\\nTheta1 has dimentions (40 x 785)\\nTheta2 has dimentions (40 x 41)\\nTheta3 has dimentions (26 x 41)\\n'"
      ]
     },
     "execution_count": 12,
     "metadata": {},
     "output_type": "execute_result"
    }
   ],
   "source": [
    "\"\"\"\n",
    "We have a data set with 300,000 stimuli or training examples.\n",
    "Our target is to make a neural network which classifies a stimuli as a letter between A-Z.\n",
    "The input layer has 784 features without bias unit. In total 785 features.\n",
    "\n",
    "Our network will have 4 layers. 1 input, 2 hidden and 1 output layer.\n",
    "Input = 784 units\n",
    "Hidden layer 1 = 40 activation units\n",
    "Hidden layer 2 = 40 activation units\n",
    "Output layer = 26 units\n",
    "\n",
    "Theta1 has dimentions (40 x 785)\n",
    "Theta2 has dimentions (40 x 41)\n",
    "Theta3 has dimentions (26 x 41)\n",
    "\"\"\""
   ]
  },
  {
   "cell_type": "code",
   "execution_count": 13,
   "id": "94ad789c",
   "metadata": {},
   "outputs": [],
   "source": [
    "def sigmoid(K):\n",
    "    \"\"\"This returns the sigmoid of every element of a matrix\"\"\"\n",
    "    sig = 1/(1 + np.exp(K))\n",
    "    return sig"
   ]
  },
  {
   "cell_type": "code",
   "execution_count": 14,
   "id": "86c136de",
   "metadata": {},
   "outputs": [],
   "source": [
    "Theta1 = np.random.rand(40,785)\n",
    "Theta2 = np.random.rand(40,41)\n",
    "Theta3 = np.random.rand(26,41)\n",
    "Lambda = 1\n",
    "alpha = 1\n",
    "iterations = 1500"
   ]
  },
  {
   "cell_type": "code",
   "execution_count": 15,
   "id": "d8ce614e",
   "metadata": {},
   "outputs": [],
   "source": [
    "def computeCost(X,y,theta1,theta2,theta3,Lambda):\n",
    "    \"\"\"This function computes the cost for a given theta on the dataset\"\"\"\n",
    "    K = theta3.shape[0]\n",
    "    m = y.shape[0]\n",
    "    \n",
    "    Y1 = np.arange(K)\n",
    "    Y = np.tile(Y1,(m,1))\n",
    "    for i in range(m):\n",
    "        Y[i,:] = np.int32(Y[i,:] == y[i])\n",
    "        \n",
    "    # Forward propogation to find final output from input\n",
    "    a1 = X  # a1 has input units for 300,000 stimuli. a1.shape = (300000,785)\n",
    "    z2 = np.matmul(a1,theta1.T)\n",
    "    a2 = sigmoid(z2)\n",
    "    a2 = np.concatenate((np.ones((z2.shape[0],1)),a2),1)\n",
    "    z3 = np.matmul(a2,theta2.T)\n",
    "    a3 = sigmoid(z3)\n",
    "    a3 = np.concatenate((np.ones((z3.shape[0],1)),a3),1)\n",
    "    z4 = np.matmul(a3,theta3.T)\n",
    "    a4 = sigmoid(z4)\n",
    "    h = a4\n",
    "    \n",
    "    # Regularisation\n",
    "    reg1 = np.sum(theta1[:,1:] * theta1[:,1:])\n",
    "    reg2 = np.sum(theta2[:,1:] * theta2[:,1:])\n",
    "    reg3 = np.sum(theta3[:,1:] * theta3[:,1:])\n",
    "    reg = reg1 + reg2 + reg3\n",
    "    \n",
    "    J = (-1/m) * np.sum( Y * np.log(h) + (1 - Y) * np.log(1 - h) ) + (Lambda/(2*m)) * reg\n",
    "    \n",
    "    return J\n",
    "    \n",
    "    #print(Y.shape)\n",
    "    #print(Y[200000:200010,:])"
   ]
  },
  {
   "cell_type": "code",
   "execution_count": 16,
   "id": "acea1428",
   "metadata": {},
   "outputs": [
    {
     "name": "stderr",
     "output_type": "stream",
     "text": [
      "C:\\Users\\ckshu\\AppData\\Local\\Temp\\ipykernel_1720\\3777892726.py:3: RuntimeWarning: overflow encountered in exp\n",
      "  sig = 1/(1 + np.exp(K))\n"
     ]
    },
    {
     "name": "stdout",
     "output_type": "stream",
     "text": [
      "7.700823621335657\n"
     ]
    }
   ],
   "source": [
    "J = computeCost(X_train,y_train,Theta1,Theta2,Theta3,Lambda)\n",
    "print(J)"
   ]
  },
  {
   "cell_type": "code",
   "execution_count": 17,
   "id": "8afe1ce3",
   "metadata": {},
   "outputs": [],
   "source": [
    "def gradient(X,y,theta1,theta2,theta3,Lambda):\n",
    "    \"\"\"This function uses Back Propogation to calculate gradient for each theta\"\"\"\n",
    "    K = theta3.shape[0]\n",
    "    m = y.shape[0]\n",
    "    \n",
    "    Y1 = np.arange(K)\n",
    "    Y = np.tile(Y1,(m,1))\n",
    "    for i in range(m):\n",
    "        Y[i,:] = np.int32(Y[i,:] == y[i])\n",
    "        \n",
    "    # Forward propogation to find final output from input\n",
    "    a1 = X  # a1 has input units for 300,000 stimuli. a1.shape = (300000,785)\n",
    "    z2 = np.matmul(a1,theta1.T)\n",
    "    a2 = sigmoid(z2)\n",
    "    a2 = np.concatenate((np.ones((z2.shape[0],1)),a2),1)\n",
    "    z3 = np.matmul(a2,theta2.T)\n",
    "    a3 = sigmoid(z3)\n",
    "    a3 = np.concatenate((np.ones((z3.shape[0],1)),a3),1)\n",
    "    z4 = np.matmul(a3,theta3.T)\n",
    "    a4 = sigmoid(z4)\n",
    "    h = a4\n",
    "    \n",
    "    # Back Propogation to find gradient\n",
    "    d4 = a4 - Y\n",
    "    d3 = np.matmul(d4,theta3) * a3 * (1 - a3)\n",
    "    d3 = d3[:,1:]  # d3 becomes 300000 x 40\n",
    "    d2 = np.matmul(d3,theta2) * a2 * (1 - a2)\n",
    "    d2 = d2[:,1:]  # d2 becomes 300000 x 40\n",
    "    \n",
    "    Delta1 = np.matmul(d2.T , a1)\n",
    "    Delta2 = np.matmul(d3.T , a2)\n",
    "    Delta3 = np.matmul(d4.T , a3)\n",
    "    \n",
    "    Theta1new = theta1;\n",
    "    Theta1new = np.concatenate((np.zeros((theta1.shape[0],1)).reshape(theta1.shape[0],1), Theta1new[:,1:]),1);\n",
    "    Theta2new = theta2;\n",
    "    Theta2new = np.concatenate((np.zeros((theta2.shape[0],1)).reshape(theta2.shape[0],1), Theta2new[:,1:]),1);\n",
    "    Theta3new = theta3;\n",
    "    Theta3new = np.concatenate((np.zeros((theta3.shape[0],1)).reshape(theta3.shape[0],1), Theta3new[:,1:]),1);\n",
    "\n",
    "    Theta1_grad = (1/m)*Delta1 + (Lambda/m) * Theta1new;\n",
    "    Theta2_grad = (1/m)*Delta2 + (Lambda/m) * Theta2new;\n",
    "    Theta3_grad = (1/m)*Delta3 + (Lambda/m) * Theta3new;\n",
    "    \n",
    "    return Theta1_grad, Theta2_grad, Theta3_grad"
   ]
  },
  {
   "cell_type": "code",
   "execution_count": 18,
   "id": "154fa220",
   "metadata": {},
   "outputs": [],
   "source": [
    "#gradient(X_train,y_train,Theta1,Theta2,Theta3,Lambda)"
   ]
  },
  {
   "cell_type": "code",
   "execution_count": 19,
   "id": "a81c0281",
   "metadata": {},
   "outputs": [],
   "source": [
    "def gradientDescent(X,y,theta1,theta2,theta3,alpha,iterations,Lambda):\n",
    "    \"\"\"This function returns final weights using descent\"\"\"\n",
    "    m = y.shape[0]\n",
    "    \n",
    "    for x in range(iterations):\n",
    "        grad1, grad2, grad3 = gradient(X,y,theta1,theta2,theta3,Lambda)\n",
    "        thetatemp1 = theta1 - (alpha/m) * grad1\n",
    "        thetatemp2 = theta2 - (alpha/m) * grad2\n",
    "        thetatemp3 = theta3 - (alpha/m) * grad3\n",
    "        theta1 = thetatemp1\n",
    "        theta2 = thetatemp2\n",
    "        theta3 = thetatemp3\n",
    "    return theta1,theta2,theta3"
   ]
  },
  {
   "cell_type": "code",
   "execution_count": 20,
   "id": "199698a6",
   "metadata": {},
   "outputs": [
    {
     "name": "stderr",
     "output_type": "stream",
     "text": [
      "C:\\Users\\ckshu\\AppData\\Local\\Temp\\ipykernel_1720\\3777892726.py:3: RuntimeWarning: overflow encountered in exp\n",
      "  sig = 1/(1 + np.exp(K))\n"
     ]
    },
    {
     "ename": "KeyboardInterrupt",
     "evalue": "",
     "output_type": "error",
     "traceback": [
      "\u001b[1;31m---------------------------------------------------------------------------\u001b[0m",
      "\u001b[1;31mKeyboardInterrupt\u001b[0m                         Traceback (most recent call last)",
      "Input \u001b[1;32mIn [20]\u001b[0m, in \u001b[0;36m<cell line: 1>\u001b[1;34m()\u001b[0m\n\u001b[1;32m----> 1\u001b[0m \u001b[43mgradientDescent\u001b[49m\u001b[43m(\u001b[49m\u001b[43mX_train\u001b[49m\u001b[43m,\u001b[49m\u001b[43my_train\u001b[49m\u001b[43m,\u001b[49m\u001b[43mTheta1\u001b[49m\u001b[43m,\u001b[49m\u001b[43mTheta2\u001b[49m\u001b[43m,\u001b[49m\u001b[43mTheta3\u001b[49m\u001b[43m,\u001b[49m\u001b[43malpha\u001b[49m\u001b[43m,\u001b[49m\u001b[43miterations\u001b[49m\u001b[43m,\u001b[49m\u001b[43mLambda\u001b[49m\u001b[43m)\u001b[49m\n",
      "Input \u001b[1;32mIn [19]\u001b[0m, in \u001b[0;36mgradientDescent\u001b[1;34m(X, y, theta1, theta2, theta3, alpha, iterations, Lambda)\u001b[0m\n\u001b[0;32m      3\u001b[0m m \u001b[38;5;241m=\u001b[39m y\u001b[38;5;241m.\u001b[39mshape[\u001b[38;5;241m0\u001b[39m]\n\u001b[0;32m      5\u001b[0m \u001b[38;5;28;01mfor\u001b[39;00m x \u001b[38;5;129;01min\u001b[39;00m \u001b[38;5;28mrange\u001b[39m(iterations):\n\u001b[1;32m----> 6\u001b[0m     grad1, grad2, grad3 \u001b[38;5;241m=\u001b[39m \u001b[43mgradient\u001b[49m\u001b[43m(\u001b[49m\u001b[43mX\u001b[49m\u001b[43m,\u001b[49m\u001b[43my\u001b[49m\u001b[43m,\u001b[49m\u001b[43mtheta1\u001b[49m\u001b[43m,\u001b[49m\u001b[43mtheta2\u001b[49m\u001b[43m,\u001b[49m\u001b[43mtheta3\u001b[49m\u001b[43m,\u001b[49m\u001b[43mLambda\u001b[49m\u001b[43m)\u001b[49m\n\u001b[0;32m      7\u001b[0m     thetatemp1 \u001b[38;5;241m=\u001b[39m theta1 \u001b[38;5;241m-\u001b[39m (alpha\u001b[38;5;241m/\u001b[39mm) \u001b[38;5;241m*\u001b[39m grad1\n\u001b[0;32m      8\u001b[0m     thetatemp2 \u001b[38;5;241m=\u001b[39m theta2 \u001b[38;5;241m-\u001b[39m (alpha\u001b[38;5;241m/\u001b[39mm) \u001b[38;5;241m*\u001b[39m grad2\n",
      "Input \u001b[1;32mIn [17]\u001b[0m, in \u001b[0;36mgradient\u001b[1;34m(X, y, theta1, theta2, theta3, Lambda)\u001b[0m\n\u001b[0;32m     27\u001b[0m d2 \u001b[38;5;241m=\u001b[39m np\u001b[38;5;241m.\u001b[39mmatmul(d3,theta2) \u001b[38;5;241m*\u001b[39m a2 \u001b[38;5;241m*\u001b[39m (\u001b[38;5;241m1\u001b[39m \u001b[38;5;241m-\u001b[39m a2)\n\u001b[0;32m     28\u001b[0m d2 \u001b[38;5;241m=\u001b[39m d2[:,\u001b[38;5;241m1\u001b[39m:]  \u001b[38;5;66;03m# d2 becomes 300000 x 40\u001b[39;00m\n\u001b[1;32m---> 30\u001b[0m Delta1 \u001b[38;5;241m=\u001b[39m \u001b[43mnp\u001b[49m\u001b[38;5;241;43m.\u001b[39;49m\u001b[43mmatmul\u001b[49m\u001b[43m(\u001b[49m\u001b[43md2\u001b[49m\u001b[38;5;241;43m.\u001b[39;49m\u001b[43mT\u001b[49m\u001b[43m \u001b[49m\u001b[43m,\u001b[49m\u001b[43m \u001b[49m\u001b[43ma1\u001b[49m\u001b[43m)\u001b[49m\n\u001b[0;32m     31\u001b[0m Delta2 \u001b[38;5;241m=\u001b[39m np\u001b[38;5;241m.\u001b[39mmatmul(d3\u001b[38;5;241m.\u001b[39mT , a2)\n\u001b[0;32m     32\u001b[0m Delta3 \u001b[38;5;241m=\u001b[39m np\u001b[38;5;241m.\u001b[39mmatmul(d4\u001b[38;5;241m.\u001b[39mT , a3)\n",
      "\u001b[1;31mKeyboardInterrupt\u001b[0m: "
     ]
    }
   ],
   "source": [
    "gradientDescent(X_train,y_train,Theta1,Theta2,Theta3,alpha,iterations,Lambda)"
   ]
  },
  {
   "cell_type": "code",
   "execution_count": null,
   "id": "50e6f342",
   "metadata": {},
   "outputs": [],
   "source": []
  }
 ],
 "metadata": {
  "kernelspec": {
   "display_name": "Python 3 (ipykernel)",
   "language": "python",
   "name": "python3"
  },
  "language_info": {
   "codemirror_mode": {
    "name": "ipython",
    "version": 3
   },
   "file_extension": ".py",
   "mimetype": "text/x-python",
   "name": "python",
   "nbconvert_exporter": "python",
   "pygments_lexer": "ipython3",
   "version": "3.10.5"
  }
 },
 "nbformat": 4,
 "nbformat_minor": 5
}
